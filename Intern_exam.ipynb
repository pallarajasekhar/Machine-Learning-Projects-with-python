{
  "cells": [
    {
      "cell_type": "markdown",
      "metadata": {
        "id": "view-in-github",
        "colab_type": "text"
      },
      "source": [
        "<a href=\"https://colab.research.google.com/github/pallarajasekhar/Machine-Learning-Projects-with-python/blob/main/Intern_exam.ipynb\" target=\"_parent\"><img src=\"https://colab.research.google.com/assets/colab-badge.svg\" alt=\"Open In Colab\"/></a>"
      ]
    },
    {
      "cell_type": "markdown",
      "id": "aa03f32a",
      "metadata": {
        "id": "aa03f32a"
      },
      "source": [
        "![Ecorelogo.png](attachment:Ecorelogo.png)"
      ]
    },
    {
      "cell_type": "markdown",
      "id": "5231251c",
      "metadata": {
        "id": "5231251c"
      },
      "source": [
        "**Fill** your data here"
      ]
    },
    {
      "cell_type": "markdown",
      "source": [],
      "metadata": {
        "id": "IEJOL6z5A_Ix"
      },
      "id": "IEJOL6z5A_Ix"
    },
    {
      "cell_type": "markdown",
      "id": "99eea1d3",
      "metadata": {
        "id": "99eea1d3"
      },
      "source": [
        "Name         :  PALLA RAJASEKHAR                                \n",
        "Branch       :   BSC BIOTECHNOLOGY                \n",
        "College      :    AADITHYA DEGREE COLLEGE NELLORE               \n",
        "Location     : India"
      ]
    },
    {
      "cell_type": "markdown",
      "id": "438404ce",
      "metadata": {
        "id": "438404ce"
      },
      "source": [
        "Write a simple Python Script following , show your output \n",
        "\n",
        "Q1: One of the elevator Company install elevator out of 40 floors tower  that elevaor operation ment for only odd series of floors,  the logic will perform other than this logic  will display (Acess Denied) or else display (Check close door once)"
      ]
    },
    {
      "cell_type": "code",
      "execution_count": null,
      "id": "5b1e1898",
      "metadata": {
        "id": "5b1e1898"
      },
      "outputs": [],
      "source": [
        "class Elevator:\n",
        "    def __init__(self, bottom, top, current):\n",
        "        \"\"\"Initializes the Elevator instance.\"\"\"\n",
        "        self.bottom = bottom\n",
        "        self.top = top\n",
        "        self.current = current\n",
        "    def __str__(self):\n",
        "        \"\"\"Information about Current floor\"\"\"\n",
        "        return \"Current floor: {}\".format(self.current)\n",
        "        \n",
        "    def up(self):\n",
        "        \"\"\"Makes the elevator go up one floor.\"\"\"\n",
        "        if self.current < 40:\n",
        "            self.current += 1\n",
        "    def down(self):\n",
        "        \"\"\"Makes the elevator go down one floor.\"\"\"\n",
        "        if self.current > 0:\n",
        "            self.current -= 1\n",
        "    def go_to(self, floor):\n",
        "        \"\"\"Makes the elevator go to the specific floor.\"\"\"\n",
        "        if floor >= self.bottom and floor <= self.top:\n",
        "            self.current = floor\n",
        "        elif floor < 0:\n",
        "            self.current = 0\n",
        "        else:\n",
        "            self.current = 40\n",
        "\n",
        "elevator = Elevator(-1, 40, 0)"
      ]
    },
    {
      "cell_type": "markdown",
      "id": "93ad06e7",
      "metadata": {
        "id": "93ad06e7"
      },
      "source": [
        "Write a simple Python Script following\n",
        "\n",
        "Q2: Mount the given Dataset ‘Test_DataCore.csv’ into your editor  and show the head  & tail of data "
      ]
    },
    {
      "cell_type": "code",
      "execution_count": null,
      "id": "37c84024",
      "metadata": {
        "id": "37c84024"
      },
      "outputs": [],
      "source": []
    },
    {
      "cell_type": "markdown",
      "id": "998fbb93",
      "metadata": {
        "id": "998fbb93"
      },
      "source": [
        "To show the output of \n",
        "\n",
        "Q3: How many patients are in the dataset? "
      ]
    },
    {
      "cell_type": "code",
      "execution_count": null,
      "id": "1a3e1f4a",
      "metadata": {
        "id": "1a3e1f4a"
      },
      "outputs": [],
      "source": [
        "#total  patients (\"10001\")"
      ]
    },
    {
      "cell_type": "markdown",
      "id": "2dc79670",
      "metadata": {
        "id": "2dc79670"
      },
      "source": [
        "To show the output of\n",
        "\n",
        "Q4: : How many of the patients died? "
      ]
    },
    {
      "cell_type": "code",
      "execution_count": null,
      "id": "b66823ae",
      "metadata": {
        "id": "b66823ae"
      },
      "outputs": [],
      "source": [
        "#number patients diead (\"18\")\n"
      ]
    },
    {
      "cell_type": "markdown",
      "id": "430c74b9",
      "metadata": {
        "id": "430c74b9"
      },
      "source": [
        "To show the output of\n",
        "\n",
        "Q5: : Vital statistics recently released the data on deaths in 2015. For H+H patients, these are available in the file ‘Test_DataCore_VitalStats.csv’. Merge the missing dates of death received from vital statistics ‘vitalstats’ for the patients into the previous dataset. How many patients died in total?"
      ]
    },
    {
      "cell_type": "code",
      "execution_count": null,
      "id": "e21e1117",
      "metadata": {
        "id": "e21e1117"
      },
      "outputs": [],
      "source": [
        "#patients (\"18\")"
      ]
    },
    {
      "cell_type": "markdown",
      "id": "186a7dc7",
      "metadata": {
        "id": "186a7dc7"
      },
      "source": [
        "To show the output of\n",
        "\n",
        "Q6:When was the last visit date for the patients who have died? Create a table which lists number of days from last visit date to date of death. Paste the output table in your answer.  "
      ]
    },
    {
      "cell_type": "code",
      "execution_count": null,
      "id": "e9a74466",
      "metadata": {
        "id": "e9a74466"
      },
      "outputs": [],
      "source": [
        "#patients (\"18\")"
      ]
    },
    {
      "cell_type": "markdown",
      "id": "dcfc20c3",
      "metadata": {
        "id": "dcfc20c3"
      },
      "source": [
        "To show the output of\n",
        "\n",
        "Q7: Create visualization age and age by gender distribution of patients in the dataset. Paste the visualizations in your answer. Also, briefly describe the distributions. "
      ]
    },
    {
      "cell_type": "code",
      "execution_count": null,
      "id": "ca6c895c",
      "metadata": {
        "id": "ca6c895c"
      },
      "outputs": [],
      "source": []
    },
    {
      "cell_type": "markdown",
      "id": "fa53d04d",
      "metadata": {
        "id": "fa53d04d"
      },
      "source": [
        "To implement a Python Script for following \n",
        "\n",
        "Q8: ![pout-2.png](attachment:pout-2.png)"
      ]
    },
    {
      "cell_type": "code",
      "execution_count": null,
      "id": "91756f25",
      "metadata": {
        "id": "91756f25"
      },
      "outputs": [],
      "source": []
    },
    {
      "cell_type": "markdown",
      "id": "8809cbf1",
      "metadata": {
        "id": "8809cbf1"
      },
      "source": [
        "To implement a Python Script for following Simple tree creation\n",
        "\n",
        "Q9:![tree.png](attachment:tree.png)"
      ]
    },
    {
      "cell_type": "code",
      "execution_count": null,
      "id": "3066ae10",
      "metadata": {
        "id": "3066ae10"
      },
      "outputs": [],
      "source": [
        "# rptree.py\n",
        "\n",
        "\"\"\"This module provides RP Tree main module.\"\"\"\n",
        "\n",
        "import os\n",
        "import pathlib\n",
        "\n",
        "PIPE = \"│\"\n",
        "ELBOW = \"└──\"\n",
        "TEE = \"├──\"\n",
        "PIPE_PREFIX = \"│   \"\n",
        "SPACE_PREFIX = \"    \""
      ]
    },
    {
      "cell_type": "markdown",
      "id": "4a19c5e8",
      "metadata": {
        "id": "4a19c5e8"
      },
      "source": [
        "Describe the following \n",
        "\n",
        "Q10: What is Meant by Magic Commands in Python "
      ]
    },
    {
      "cell_type": "code",
      "execution_count": null,
      "id": "07211539",
      "metadata": {
        "id": "07211539"
      },
      "outputs": [],
      "source": [
        "#Types of Magic Commands\n",
        "#There are two types of magic commands −\n",
        "\n",
        "#Line magics\n",
        "#Cell magics\n",
        "\n",
        "#Line Magics  They are similar to command line calls. They start with % character. Rest of the line is its argument passed without parentheses or quotes. Line magics can be used as expression and their return value can be assigned to variable.\n",
        "\n",
        "#cell magics  They have %% character prefix. Unlike line magic functions, they can operate on multiple lines below their call. They can in fact make arbitrary modifications to the input they receive, which need not even be a valid Python code at all. They receive the whole block as a single string.\n",
        "\n",
        "                                                    \n",
        "\n"
      ]
    },
    {
      "cell_type": "code",
      "source": [],
      "metadata": {
        "id": "7Lm5Tou_EDhN"
      },
      "id": "7Lm5Tou_EDhN",
      "execution_count": null,
      "outputs": []
    },
    {
      "cell_type": "markdown",
      "id": "cd4606ce",
      "metadata": {
        "id": "cd4606ce"
      },
      "source": [
        "## Note:\n",
        "After complete the Exam save a file name with your name and forward to prasadailt@gmail.com"
      ]
    },
    {
      "cell_type": "code",
      "execution_count": null,
      "id": "f6ca2263",
      "metadata": {
        "id": "f6ca2263"
      },
      "outputs": [],
      "source": []
    }
  ],
  "metadata": {
    "kernelspec": {
      "display_name": "Python 3",
      "language": "python",
      "name": "python3"
    },
    "language_info": {
      "codemirror_mode": {
        "name": "ipython",
        "version": 3
      },
      "file_extension": ".py",
      "mimetype": "text/x-python",
      "name": "python",
      "nbconvert_exporter": "python",
      "pygments_lexer": "ipython3",
      "version": "3.8.8"
    },
    "colab": {
      "provenance": [],
      "collapsed_sections": [],
      "include_colab_link": true
    }
  },
  "nbformat": 4,
  "nbformat_minor": 5
}